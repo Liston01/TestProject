{
 "cells": [
  {
   "cell_type": "markdown",
   "id": "49f939ca-315e-4148-b34b-1f16b2069e83",
   "metadata": {},
   "source": [
    "Personal Details"
   ]
  },
  {
   "cell_type": "code",
   "execution_count": 1,
   "id": "e79a21fc-1ff8-4c9b-ad1b-c368132770c1",
   "metadata": {},
   "outputs": [],
   "source": [
    "Liston={\n",
    "    \"full name\":\"Liston Mwamburi\",\n",
    "    \"age\": 21,\n",
    "    \"country\": \"Madagscar\",\n",
    "    \"marital status\": \"Polygamus\"}"
   ]
  },
  {
   "cell_type": "code",
   "execution_count": 2,
   "id": "0b8bdaf4-1b89-40f9-8e23-bac3ac316ab6",
   "metadata": {},
   "outputs": [
    {
     "data": {
      "text/plain": [
       "'Liston Mwamburi'"
      ]
     },
     "execution_count": 2,
     "metadata": {},
     "output_type": "execute_result"
    }
   ],
   "source": [
    "Liston[\"full name\"]"
   ]
  },
  {
   "cell_type": "code",
   "execution_count": null,
   "id": "51dab4e9-c1bc-49b1-9cb8-060df039b36d",
   "metadata": {},
   "outputs": [],
   "source": []
  }
 ],
 "metadata": {
  "kernelspec": {
   "display_name": "Python 3 (ipykernel)",
   "language": "python",
   "name": "python3"
  },
  "language_info": {
   "codemirror_mode": {
    "name": "ipython",
    "version": 3
   },
   "file_extension": ".py",
   "mimetype": "text/x-python",
   "name": "python",
   "nbconvert_exporter": "python",
   "pygments_lexer": "ipython3",
   "version": "3.13.2"
  }
 },
 "nbformat": 4,
 "nbformat_minor": 5
}
