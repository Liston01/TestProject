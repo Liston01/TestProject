{
 "cells": [
  {
   "cell_type": "markdown",
   "id": "62a56d85-97c1-4c00-bdd5-95283ce684bf",
   "metadata": {},
   "source": [
    "# Support Vector Machines (SVM)"
   ]
  },
  {
   "cell_type": "markdown",
   "id": "345d7205-e66f-46f0-b284-b9430d58a60c",
   "metadata": {},
   "source": [
    "Support Vector Machines (SVM) is a machine learning algorithm used for:\n",
    "\n",
    "- Classification (e.g., spam vs. non-spam emails)\n",
    "- Regression (predicting continuous values)"
   ]
  },
  {
   "cell_type": "markdown",
   "id": "0b1ea7bb-c661-4091-b63e-73634392e6dc",
   "metadata": {},
   "source": [
    "SVM is mainly used for classification because it finds the best dividing boundary (called a hyperplane) between two categories. It is particularly useful for binary classification problems but can be extended to multi-class classification."
   ]
  },
  {
   "cell_type": "markdown",
   "id": "a17956ab-14f0-4454-a81d-fc8e08c0e915",
   "metadata": {},
   "source": [
    "## How Does SVM Work?"
   ]
  },
  {
   "cell_type": "markdown",
   "id": "d4ab2449-837d-4d9d-bd4e-75b9277e5456",
   "metadata": {},
   "source": [
    "Imagine you have two groups of data points (e.g., apples and oranges), and you need to draw a line to separate them.\n",
    "\n",
    "- Best line (or hyperplane): The one that leaves the widest gap (margin) between the two groups.\n",
    "- Closest points (support vectors): These are the most important data points that define the hyperplane.\n",
    "- Goal of SVM: Maximize this margin so that new data points can be classified correctly."
   ]
  },
  {
   "cell_type": "markdown",
   "id": "2234c358-e1e8-474b-a31d-9a1bb7dd4ae4",
   "metadata": {},
   "source": [
    "## When to use SVM\n",
    "- When data is well-structured and needs clear separation.\n",
    "- The number of features is large\n",
    "- You need a powerful classifier that works well with small datasets.\n",
    "\n",
    "Avoid SVM if: \n",
    "- The dataset is very large (SVM can be slow)\n",
    "- Classes are highly overlapping and not easily separable.\n",
    "\n"
   ]
  },
  {
   "cell_type": "markdown",
   "id": "ef86ea10-c5ac-4aae-8224-3924e8b56488",
   "metadata": {},
   "source": [
    "## Types of SVM\n",
    "\n",
    "- Linear SVM – Used when data can be separated by a straight line.\n",
    "- Non-Linear SVM – Used when data is mixed, requiring a more flexible boundary.\n",
    "\n",
    "Example: \n",
    "\n",
    "- If apples and oranges are clearly on opposite sides of a table → Use Linear SVM.\n",
    "- If they are scattered in a circular pattern → Use Non-Linear SVM (kernel trick needed)."
   ]
  },
  {
   "cell_type": "markdown",
   "id": "abe61d23-9e22-49a1-b4bb-388f665c82b0",
   "metadata": {},
   "source": [
    "## The Kernel Trick\n",
    "When data isn’t linearly separable, SVM uses kernels to transform it into a higher-dimensional space where separation is easier.\n",
    "\n",
    "Common kernels:\n",
    "\n",
    "- Linear Kernel - Used for simple data.\n",
    "- Polynomial Kernel - Captures complex patterns.\n",
    "- Radial Basis Function (RBF) Kernel - Best for very complex data.\n",
    "\n",
    "Think of it like this: Instead of drawing a straight line, imagine lifting the data into 3D and separating it with a plane instead of a line."
   ]
  },
  {
   "cell_type": "markdown",
   "id": "9bd67b9e-10c1-4631-8aee-897429bcd40c",
   "metadata": {},
   "source": [
    "## Implementing SVM in Python"
   ]
  },
  {
   "cell_type": "code",
   "execution_count": null,
   "id": "63965977-3e31-4c29-b916-09cac31cb5c3",
   "metadata": {},
   "outputs": [],
   "source": []
  },
  {
   "cell_type": "markdown",
   "id": "c118ff30-0317-400d-ad9b-615517d6e57c",
   "metadata": {},
   "source": [
    "#### Binary Classification (Only Two Classes)\n",
    "\n",
    "- We will use the Breast Cancer Dataset to show how SVM is implemented in Python\n",
    "- The data contains features computed from breast tumor cell images\n",
    "- The goal is to classify tumors as either malignant (cancerous) or benign (non-cancerous)."
   ]
  },
  {
   "cell_type": "code",
   "execution_count": 3,
   "id": "54c95159-5144-429f-8612-adfa750f7f2a",
   "metadata": {},
   "outputs": [
    {
     "name": "stdout",
     "output_type": "stream",
     "text": [
      "   mean radius  mean texture  mean perimeter  mean area  mean smoothness  \\\n",
      "0        17.99         10.38          122.80     1001.0          0.11840   \n",
      "1        20.57         17.77          132.90     1326.0          0.08474   \n",
      "2        19.69         21.25          130.00     1203.0          0.10960   \n",
      "3        11.42         20.38           77.58      386.1          0.14250   \n",
      "4        20.29         14.34          135.10     1297.0          0.10030   \n",
      "\n",
      "   mean compactness  mean concavity  mean concave points  mean symmetry  \\\n",
      "0           0.27760          0.3001              0.14710         0.2419   \n",
      "1           0.07864          0.0869              0.07017         0.1812   \n",
      "2           0.15990          0.1974              0.12790         0.2069   \n",
      "3           0.28390          0.2414              0.10520         0.2597   \n",
      "4           0.13280          0.1980              0.10430         0.1809   \n",
      "\n",
      "   mean fractal dimension  ...  worst texture  worst perimeter  worst area  \\\n",
      "0                 0.07871  ...          17.33           184.60      2019.0   \n",
      "1                 0.05667  ...          23.41           158.80      1956.0   \n",
      "2                 0.05999  ...          25.53           152.50      1709.0   \n",
      "3                 0.09744  ...          26.50            98.87       567.7   \n",
      "4                 0.05883  ...          16.67           152.20      1575.0   \n",
      "\n",
      "   worst smoothness  worst compactness  worst concavity  worst concave points  \\\n",
      "0            0.1622             0.6656           0.7119                0.2654   \n",
      "1            0.1238             0.1866           0.2416                0.1860   \n",
      "2            0.1444             0.4245           0.4504                0.2430   \n",
      "3            0.2098             0.8663           0.6869                0.2575   \n",
      "4            0.1374             0.2050           0.4000                0.1625   \n",
      "\n",
      "   worst symmetry  worst fractal dimension  target  \n",
      "0          0.4601                  0.11890       0  \n",
      "1          0.2750                  0.08902       0  \n",
      "2          0.3613                  0.08758       0  \n",
      "3          0.6638                  0.17300       0  \n",
      "4          0.2364                  0.07678       0  \n",
      "\n",
      "[5 rows x 31 columns]\n",
      "\n",
      "Class Distribution:\n",
      " target\n",
      "1    357\n",
      "0    212\n",
      "Name: count, dtype: int64\n"
     ]
    }
   ],
   "source": [
    "from sklearn.datasets import load_breast_cancer\n",
    "import pandas as pd\n",
    "\n",
    "\n",
    "breast_cancer = load_breast_cancer() \n",
    "\n",
    "df = pd.DataFrame(data=breast_cancer.data, columns=breast_cancer.feature_names)\n",
    "\n",
    "df['target'] = breast_cancer.target  # 0 = Malignant, 1 = Benign\n",
    "\n",
    "print(df.head())\n",
    "\n",
    "print(\"\\nClass Distribution:\\n\", df['target'].value_counts())\n"
   ]
  },
  {
   "cell_type": "markdown",
   "id": "61a6568d-8428-4187-8971-94a57eddcca1",
   "metadata": {},
   "source": [
    "- The dataset contains 30 numerical features (like mean radius, texture, perimeter, etc.).\n",
    "- The target variable (binary):\n",
    "  \n",
    "      - 0 -  Malignant (cancerous)\n",
    "      - 1 -  Benign (non-cancerous)\n",
    "- Distribution: The dataset is imbalanced (more benign cases than malignant)."
   ]
  },
  {
   "cell_type": "code",
   "execution_count": 7,
   "id": "fe4906b9-efb5-4796-83dd-dda4750ec046",
   "metadata": {},
   "outputs": [
    {
     "name": "stdout",
     "output_type": "stream",
     "text": [
      "Training samples: 398\n",
      "Testing samples: 171\n"
     ]
    }
   ],
   "source": [
    "from sklearn.model_selection import train_test_split\n",
    "\n",
    "\n",
    "X = df.drop(columns=['target'])  # All features\n",
    "\n",
    "y = df['target'] \n",
    "\n",
    "X_train, X_test, y_train, y_test = train_test_split(X, y, test_size=0.3, random_state=42) \n",
    "print(\"Training samples:\", X_train.shape[0])\n",
    "\n",
    "print(\"Testing samples:\", X_test.shape[0])\n"
   ]
  },
  {
   "cell_type": "code",
   "execution_count": 9,
   "id": "266faed5-b86f-42ee-9f60-519074765be0",
   "metadata": {},
   "outputs": [
    {
     "name": "stdout",
     "output_type": "stream",
     "text": [
      "SVM Accuracy: 0.9649122807017544\n",
      "\n",
      "Classification Report:\n",
      "               precision    recall  f1-score   support\n",
      "\n",
      "           0       0.97      0.94      0.95        63\n",
      "           1       0.96      0.98      0.97       108\n",
      "\n",
      "    accuracy                           0.96       171\n",
      "   macro avg       0.97      0.96      0.96       171\n",
      "weighted avg       0.96      0.96      0.96       171\n",
      "\n"
     ]
    }
   ],
   "source": [
    "# Train an SVM Model -------------------------------------------------------------------------\n",
    "\n",
    "from sklearn.svm import SVC\n",
    " \n",
    "from sklearn.metrics import accuracy_score, classification_report\n",
    "\n",
    "svm_bc = SVC(kernel='linear', C=1.0)  # Linear kernel works well\n",
    "\n",
    "# C=1.0 → This is the regularization parameter, which controls the trade-off between maximizing margin and minimizing classification errors\n",
    "# Higher C (e.g., C=10 or more) → Less margin, more focus on correctly classifying all training points (risk of overfitting).\n",
    "# Lower C (e.g., C=0.1) → Larger margin, allows some misclassifications to improve generalization (reduces overfitting).\n",
    "\n",
    "svm_bc.fit(X_train, y_train)\n",
    "\n",
    "\n",
    "y_pred = svm_bc.predict(X_test) # Make predictions\n",
    "\n",
    "# Model evaluation\n",
    "\n",
    "print(\"SVM Accuracy:\", accuracy_score(y_test, y_pred))\n",
    "print(\"\\nClassification Report:\\n\", classification_report(y_test, y_pred))\n"
   ]
  },
  {
   "cell_type": "markdown",
   "id": "dab6c1da-3aa9-4961-a408-4175c9c105a4",
   "metadata": {},
   "source": [
    "Interpretation: \n",
    "\n",
    "- The classification model has an overall accuracy of 96%, meaning it correctly predicted 96% of the test samples. \n",
    "- The model correctly classified 94% of actual class 0 cases, but 6% were misclassified as diabetic.\n",
    "- The model correctly classified 98% of actual diabetics, but 4% of predictions for this class were incorrect.\n",
    "- "
   ]
  },
  {
   "cell_type": "markdown",
   "id": "fdc961f0-7224-4db8-979d-32c3f23f5114",
   "metadata": {},
   "source": [
    "### Confusion matrix"
   ]
  },
  {
   "cell_type": "code",
   "execution_count": 65,
   "id": "e1fa8076-9467-4ebe-b3fe-da8fbd64692f",
   "metadata": {},
   "outputs": [
    {
     "data": {
      "image/png": "[encoded data removed]",
      "text/plain": [
       "<Figure size 640x480 with 2 Axes>"
      ]
     },
     "metadata": {},
     "output_type": "display_data"
    }
   ],
   "source": [
    "from sklearn.metrics import ConfusionMatrixDisplay, confusion_matrix\n",
    "import matplotlib.pyplot as plt\n",
    "\n",
    "cm = confusion_matrix(y_test, y_pred) # compute the confusion matrix\n",
    "\n",
    "\n",
    "disp = ConfusionMatrixDisplay(confusion_matrix=cm, display_labels=[\"Malignant (0)\", \"Benign (1)\"]) # plot confusion matrix with labels.\n",
    "\n",
    "disp.plot(cmap=plt.cm.Blues)  # Using a blue colormap for better visualization\n",
    "\n",
    "plt.title(\"Confusion Matrix for SVM on Breast Cancer Data\")\n",
    "\n",
    "plt.show()"
   ]
  },
  {
   "cell_type": "markdown",
   "id": "b351c0be-a53f-419d-8080-6993cffbcff1",
   "metadata": {},
   "source": [
    "#### Try a Different Kernel (RBF)\n",
    "\n",
    "This is just to see if a non-linear kernel will perfomr better"
   ]
  },
  {
   "cell_type": "code",
   "execution_count": 59,
   "id": "f8c7f385-a3dd-43f6-8738-21092e1b2e03",
   "metadata": {},
   "outputs": [
    {
     "name": "stdout",
     "output_type": "stream",
     "text": [
      "SVM with RBF Kernel Accuracy: 0.935672514619883\n",
      "\n",
      "Classification Report:\n",
      "               precision    recall  f1-score   support\n",
      "\n",
      "           0       1.00      0.83      0.90        63\n",
      "           1       0.91      1.00      0.95       108\n",
      "\n",
      "    accuracy                           0.94       171\n",
      "   macro avg       0.95      0.91      0.93       171\n",
      "weighted avg       0.94      0.94      0.93       171\n",
      "\n"
     ]
    }
   ],
   "source": [
    "# Train an SVM model with RBF kernel\n",
    "\n",
    "svm_bc_rbf = SVC(kernel='rbf', gamma='scale', C=1.0)\n",
    "\n",
    "svm_bc_rbf.fit(X_train, y_train)\n",
    "\n",
    "\n",
    "y_pred_rbf = svm_bc_rbf.predict(X_test) # Make predictions\n",
    "\n",
    "# model evaluation \n",
    "\n",
    "print(\"SVM with RBF Kernel Accuracy:\", accuracy_score(y_test, y_pred_rbf))\n",
    "\n",
    "print(\"\\nClassification Report:\\n\", classification_report(y_test, y_pred_rbf))\n"
   ]
  },
  {
   "cell_type": "markdown",
   "id": "765c0d0a-fc6f-4439-b087-02ba9f42fa53",
   "metadata": {},
   "source": [
    "- The RBF kernel may slightly improve accuracy or handle more complex cases better.\n",
    "- If the linear SVM already performs well, RBF might not improve much."
   ]
  },
  {
   "cell_type": "markdown",
   "id": "163e052a-7af5-4e1e-a806-f7a00ccb42ec",
   "metadata": {},
   "source": [
    "#### Multi-Class Classification in Python"
   ]
  },
  {
   "cell_type": "code",
   "execution_count": 37,
   "id": "161f8bbb-4d27-4684-b4ab-61f0bd6d50fc",
   "metadata": {},
   "outputs": [
    {
     "name": "stdout",
     "output_type": "stream",
     "text": [
      "Accuracy: 1.0\n",
      "Classification Report:\n",
      "               precision    recall  f1-score   support\n",
      "\n",
      "           0       1.00      1.00      1.00        19\n",
      "           1       1.00      1.00      1.00        13\n",
      "           2       1.00      1.00      1.00        13\n",
      "\n",
      "    accuracy                           1.00        45\n",
      "   macro avg       1.00      1.00      1.00        45\n",
      "weighted avg       1.00      1.00      1.00        45\n",
      "\n"
     ]
    }
   ],
   "source": [
    "from sklearn import datasets\n",
    "from sklearn.model_selection import train_test_split\n",
    "from sklearn.svm import SVC\n",
    "from sklearn.metrics import accuracy_score, classification_report\n",
    "\n",
    "# Load the iris dataset\n",
    "iris = datasets.load_iris()\n",
    "X = iris.data  # All features\n",
    "y = iris.target  # Multi-class target\n",
    "\n",
    "# Split into train and test sets\n",
    "X_train, X_test, y_train, y_test = train_test_split(X, y, test_size=0.3, random_state=42)\n",
    "\n",
    "# Train an SVM model\n",
    "svm_model = SVC(kernel='linear')  # Handles multi-class automatically\n",
    "svm_model.fit(X_train, y_train)\n",
    "\n",
    "# Make predictions\n",
    "y_pred = svm_model.predict(X_test)\n",
    "\n",
    "# Evaluate\n",
    "print(\"Accuracy:\", accuracy_score(y_test, y_pred))\n",
    "print(\"Classification Report:\\n\", classification_report(y_test, y_pred))\n"
   ]
  },
  {
   "cell_type": "code",
   "execution_count": 35,
   "id": "7b9f3d62-e7ad-4c59-bfae-ecc60bac1a9e",
   "metadata": {},
   "outputs": [
    {
     "data": {
      "text/plain": [
       "array([0, 0, 0, 0, 0, 0, 0, 0, 0, 0, 0, 0, 0, 0, 0, 0, 0, 0, 0, 0, 0, 0,\n",
       "       0, 0, 0, 0, 0, 0, 0, 0, 0, 0, 0, 0, 0, 0, 0, 0, 0, 0, 0, 0, 0, 0,\n",
       "       0, 0, 0, 0, 0, 0, 1, 1, 1, 1, 1, 1, 1, 1, 1, 1, 1, 1, 1, 1, 1, 1,\n",
       "       1, 1, 1, 1, 1, 1, 1, 1, 1, 1, 1, 1, 1, 1, 1, 1, 1, 1, 1, 1, 1, 1,\n",
       "       1, 1, 1, 1, 1, 1, 1, 1, 1, 1, 1, 1, 2, 2, 2, 2, 2, 2, 2, 2, 2, 2,\n",
       "       2, 2, 2, 2, 2, 2, 2, 2, 2, 2, 2, 2, 2, 2, 2, 2, 2, 2, 2, 2, 2, 2,\n",
       "       2, 2, 2, 2, 2, 2, 2, 2, 2, 2, 2, 2, 2, 2, 2, 2, 2, 2])"
      ]
     },
     "execution_count": 35,
     "metadata": {},
     "output_type": "execute_result"
    }
   ],
   "source": []
  },
  {
   "cell_type": "code",
   "execution_count": 39,
   "id": "21bd8783-b564-480b-90aa-ab64d54b0ed3",
   "metadata": {},
   "outputs": [
    {
     "name": "stdout",
     "output_type": "stream",
     "text": [
      "Accuracy: 0.8\n",
      "Classification Report:\n",
      "               precision    recall  f1-score   support\n",
      "\n",
      "           0       1.00      1.00      1.00        19\n",
      "           1       0.70      0.54      0.61        13\n",
      "           2       0.62      0.77      0.69        13\n",
      "\n",
      "    accuracy                           0.80        45\n",
      "   macro avg       0.78      0.77      0.77        45\n",
      "weighted avg       0.81      0.80      0.80        45\n",
      "\n"
     ]
    }
   ],
   "source": [
    "import numpy as np\n",
    "import pandas as pd\n",
    "import matplotlib.pyplot as plt\n",
    "from sklearn import datasets\n",
    "from sklearn.model_selection import train_test_split\n",
    "from sklearn.svm import SVC\n",
    "from sklearn.metrics import accuracy_score, classification_report\n",
    "\n",
    "# Load the dataset\n",
    "iris = datasets.load_iris()\n",
    "X = iris.data[:, :2]  # Using first two features for easy visualization\n",
    "y = iris.target\n",
    "\n",
    "# Split into training and testing sets\n",
    "X_train, X_test, y_train, y_test = train_test_split(X, y, test_size=0.3, random_state=42)\n",
    "\n",
    "# Train an SVM model with a linear kernel\n",
    "svm_model = SVC(kernel='linear')\n",
    "svm_model.fit(X_train, y_train)\n",
    "\n",
    "# Make predictions\n",
    "y_pred = svm_model.predict(X_test)\n",
    "\n",
    "# Evaluate the model\n",
    "print(\"Accuracy:\", accuracy_score(y_test, y_pred))\n",
    "print(\"Classification Report:\\n\", classification_report(y_test, y_pred))\n"
   ]
  },
  {
   "cell_type": "code",
   "execution_count": null,
   "id": "0f4482a6-aa9c-4529-b9bb-287652759c5d",
   "metadata": {},
   "outputs": [],
   "source": []
  },
  {
   "cell_type": "markdown",
   "id": "b2c1aa51-9c3c-46f6-a30b-05bf70c0e7e5",
   "metadata": {},
   "source": [
    "# Practice Exercise"
   ]
  },
  {
   "cell_type": "markdown",
   "id": "e0c18c80-f72f-41da-91c4-c06d8fb944d9",
   "metadata": {},
   "source": [
    "Use the diabetes diagnosis dataset shared to solve the following problems. "
   ]
  },
  {
   "cell_type": "markdown",
   "id": "12d4deae-79c9-492a-a12a-54189778498c",
   "metadata": {},
   "source": [
    "### Q1. Data Preprocessing "
   ]
  },
  {
   "cell_type": "markdown",
   "id": "99c7bdaa-3753-49fe-b141-eb8d817bdd38",
   "metadata": {},
   "source": [
    "- Load the dataset and display its first five rows. \n",
    "- Check for missing values and decide how to handle them (e.g., drop, impute). \n",
    "- Identify numerical and categorical features in the dataset. \n",
    "- Convert categorical variables (FamilyHistory, DietType, Hypertension, MedicationUse) into numeric format if necessary. \n",
    "- Normalize or standardize numerical features such as Glucose, BloodPressure, and BMI to improve model performance. "
   ]
  },
  {
   "cell_type": "code",
   "execution_count": null,
   "id": "08458515-dfe6-4124-b313-6e2fe2d8d8f7",
   "metadata": {},
   "outputs": [],
   "source": []
  },
  {
   "cell_type": "markdown",
   "id": "6040f20f-95bb-4aa3-afbd-a5ea95e8340e",
   "metadata": {},
   "source": [
    "### Q2. Feature Engineering"
   ]
  },
  {
   "cell_type": "markdown",
   "id": "3b9af7fc-98fe-41a4-92fa-d7bb73c5137c",
   "metadata": {},
   "source": [
    "- Create a new feature Body Mass Index Category based on BMI:\n",
    "  \n",
    "        - Underweight (BMI < 18.5), Normal (18.5–24.9), Overweight (25–29.9), Obese (30+)\n",
    "  \n",
    "- Compute the Waist-to-Hip Ratio (WHR Category):\n",
    "\n",
    "        - WHR > 0.9 (Males) and WHR > 0.85 (Females) → High Risk\n",
    "        - Otherwise → Low Risk \n",
    "  \n",
    "- Examine correlations between features using a correlation matrix. Identify highly correlated features. \n"
   ]
  },
  {
   "cell_type": "code",
   "execution_count": null,
   "id": "8e327551-b655-4f78-95a4-015e2519b8c2",
   "metadata": {},
   "outputs": [],
   "source": []
  },
  {
   "cell_type": "markdown",
   "id": "276b2443-6084-4e2e-a788-30e62f3dfba1",
   "metadata": {},
   "source": [
    "### Q3. Feature Selection\n",
    "\n",
    "- Apply at least one feature selection method. Select the best set of features for classification. Justify your choice."
   ]
  },
  {
   "cell_type": "code",
   "execution_count": null,
   "id": "057101b8-7f9d-4066-877b-e0a72df6083b",
   "metadata": {},
   "outputs": [],
   "source": []
  },
  {
   "cell_type": "markdown",
   "id": "ec12842e-e9f2-41f1-940c-2001b3f9807d",
   "metadata": {},
   "source": [
    "### Q4. Support Vector Machine (SVM) Classification"
   ]
  },
  {
   "cell_type": "markdown",
   "id": "72722523-757a-4a04-9db2-8982a44eaa65",
   "metadata": {},
   "source": [
    "- Split the dataset into 80% training and 20% testing. \n",
    "- Train an SVM model (linear kernel) to classify diabetes. \n",
    "- Evaluate model performance using accuracy, precision, recall, and F1-score. \n",
    "- Experiment with different kernels (e.g., RBF, polynomial) and compare their performance.\n",
    "- Plot the Confusion Matrix to analyze the model’s classification performance. "
   ]
  },
  {
   "cell_type": "code",
   "execution_count": null,
   "id": "cee709bb-6ca0-4578-9145-0bc9799d484a",
   "metadata": {},
   "outputs": [],
   "source": []
  }
 ],
 "metadata": {
  "kernelspec": {
   "display_name": "Python [conda env:base] *",
   "language": "python",
   "name": "conda-base-py"
  },
  "language_info": {
   "codemirror_mode": {
    "name": "ipython",
    "version": 3
   },
   "file_extension": ".py",
   "mimetype": "text/x-python",
   "name": "python",
   "nbconvert_exporter": "python",
   "pygments_lexer": "ipython3",
   "version": "3.12.7"
  }
 },
 "nbformat": 4,
 "nbformat_minor": 5
}
